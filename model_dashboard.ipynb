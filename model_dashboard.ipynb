{
  "cells": [
    {
      "cell_type": "code",
      "execution_count": 1,
      "metadata": {
        "id": "kwY3FuexyaxJ"
      },
      "outputs": [],
      "source": [
        "import pandas\n",
        "import numpy as np\n",
        "import matplotlib.pyplot as plt\n",
        "from sklearn.preprocessing import StandardScaler\n",
        "from sklearn.ensemble import GradientBoostingRegressor\n",
        "from sklearn.metrics import mean_squared_error\n",
        "from sklearn.model_selection import train_test_split\n",
        "import pickle as pkl"
      ]
    },
    {
      "cell_type": "code",
      "execution_count": 2,
      "metadata": {
        "id": "opqEA1GszOUh"
      },
      "outputs": [],
      "source": [
        "dataX=pandas.read_csv('features_all_data.csv')\n",
        "datay=pandas.read_csv('label_crime_allmetrics.csv')\n"
      ]
    },
    {
      "cell_type": "code",
      "execution_count": 3,
      "metadata": {},
      "outputs": [
        {
          "data": {
            "text/plain": [
              "Index(['NeighbourhoodCode', 'Year', 'Month', 'ResponseTimeScore',\n",
              "       'SlowResponseTimePenalty', 'DayC', 'NightC', 'Rain Days',\n",
              "       'Rainfall(mm)', 'Daylight hours', 'NuisanceReportsCriminal',\n",
              "       'NuisanceReportsNonCriminal', 'NetLaborParticipation',\n",
              "       'FlexibleContracts', 'SelfContract', 'PopulationEduLow',\n",
              "       'PopulationEduMedium', 'PopulationEduHigh', 'y0-15%', 'y15-25%',\n",
              "       'y65-%', 'Peoplewithmigrationbackgroud%', 'Averagepeopleperhousehold',\n",
              "       'Populationdensitykm2', 'AverageWOZ-valueofhouses(x1000euro)',\n",
              "       'Percentuninhabited(%)', 'Rentalproperies(%)', 'Tradeandcatering%',\n",
              "       'Culture/recreationproperies%', 'Carsperhousehold', 'UrbanityLevel',\n",
              "       'Inhabitants', 'Benches', 'Lights', 'POI'],\n",
              "      dtype='object')"
            ]
          },
          "execution_count": 3,
          "metadata": {},
          "output_type": "execute_result"
        }
      ],
      "source": [
        "dataX.columns"
      ]
    },
    {
      "cell_type": "code",
      "execution_count": 4,
      "metadata": {},
      "outputs": [
        {
          "data": {
            "text/plain": [
              "Index(['NeighbourhoodCode', 'Year', 'Month', 'PropertyCrimesTotal',\n",
              "       'PropertyCrimesRelPop', 'PropertyCrimesRelCity', 'ViolentCrimesTotal',\n",
              "       'ViolentCrimesRelPop', 'ViolentCrimesRelCity', 'BurglariesTotal',\n",
              "       'BurglariesRelPop', 'BurglariesRelCity'],\n",
              "      dtype='object')"
            ]
          },
          "execution_count": 4,
          "metadata": {},
          "output_type": "execute_result"
        }
      ],
      "source": [
        "datay.columns"
      ]
    },
    {
      "cell_type": "code",
      "execution_count": 5,
      "metadata": {
        "id": "mt9-dvy7zSXU"
      },
      "outputs": [],
      "source": [
        "crimes_total= datay.groupby(by=['NeighbourhoodCode','Year', 'Month'])['BurglariesRelPop'].sum()\n"
      ]
    },
    {
      "cell_type": "code",
      "execution_count": 6,
      "metadata": {
        "id": "nyBLM1JUzTDI"
      },
      "outputs": [
        {
          "data": {
            "text/plain": [
              "NeighbourhoodCode  Year  Month\n",
              "Bavel              2012  1        1.5162\n",
              "                         2        0.6065\n",
              "                         3        0.6065\n",
              "                         4        0.3032\n",
              "                         5        1.5162\n",
              "Name: BurglariesRelPop, dtype: float64"
            ]
          },
          "execution_count": 6,
          "metadata": {},
          "output_type": "execute_result"
        }
      ],
      "source": [
        "crimes_total.head()\n"
      ]
    },
    {
      "cell_type": "code",
      "execution_count": 7,
      "metadata": {
        "id": "hJ2_9ARrzUy-"
      },
      "outputs": [],
      "source": [
        "data=pandas.merge(dataX,crimes_total, on=['NeighbourhoodCode','Year','Month'])\n"
      ]
    },
    {
      "cell_type": "code",
      "execution_count": 8,
      "metadata": {
        "id": "sZFf3sG_zVii"
      },
      "outputs": [
        {
          "data": {
            "text/plain": [
              "Index(['NeighbourhoodCode', 'Year', 'Month', 'ResponseTimeScore',\n",
              "       'SlowResponseTimePenalty', 'DayC', 'NightC', 'Rain Days',\n",
              "       'Rainfall(mm)', 'Daylight hours', 'NuisanceReportsCriminal',\n",
              "       'NuisanceReportsNonCriminal', 'NetLaborParticipation',\n",
              "       'FlexibleContracts', 'SelfContract', 'PopulationEduLow',\n",
              "       'PopulationEduMedium', 'PopulationEduHigh', 'y0-15%', 'y15-25%',\n",
              "       'y65-%', 'Peoplewithmigrationbackgroud%', 'Averagepeopleperhousehold',\n",
              "       'Populationdensitykm2', 'AverageWOZ-valueofhouses(x1000euro)',\n",
              "       'Percentuninhabited(%)', 'Rentalproperies(%)', 'Tradeandcatering%',\n",
              "       'Culture/recreationproperies%', 'Carsperhousehold', 'UrbanityLevel',\n",
              "       'Inhabitants', 'Benches', 'Lights', 'POI', 'BurglariesRelPop'],\n",
              "      dtype='object')"
            ]
          },
          "execution_count": 8,
          "metadata": {},
          "output_type": "execute_result"
        }
      ],
      "source": [
        "data.columns"
      ]
    },
    {
      "cell_type": "code",
      "execution_count": 9,
      "metadata": {},
      "outputs": [],
      "source": [
        "data = data[['NeighbourhoodCode', 'Populationdensitykm2', 'SlowResponseTimePenalty', 'Percentuninhabited(%)', 'Inhabitants', 'ResponseTimeScore', 'Tradeandcatering%','BurglariesRelPop','Year']]\n"
      ]
    },
    {
      "cell_type": "code",
      "execution_count": 23,
      "metadata": {},
      "outputs": [
        {
          "data": {
            "text/html": [
              "<div>\n",
              "<style scoped>\n",
              "    .dataframe tbody tr th:only-of-type {\n",
              "        vertical-align: middle;\n",
              "    }\n",
              "\n",
              "    .dataframe tbody tr th {\n",
              "        vertical-align: top;\n",
              "    }\n",
              "\n",
              "    .dataframe thead th {\n",
              "        text-align: right;\n",
              "    }\n",
              "</style>\n",
              "<table border=\"1\" class=\"dataframe\">\n",
              "  <thead>\n",
              "    <tr style=\"text-align: right;\">\n",
              "      <th></th>\n",
              "      <th>NeighbourhoodCode</th>\n",
              "      <th>Populationdensitykm2</th>\n",
              "      <th>SlowResponseTimePenalty</th>\n",
              "      <th>Percentuninhabited(%)</th>\n",
              "      <th>Inhabitants</th>\n",
              "      <th>ResponseTimeScore</th>\n",
              "      <th>Tradeandcatering%</th>\n",
              "      <th>BurglariesRelPop</th>\n",
              "      <th>Year</th>\n",
              "      <th>Burglaries1k</th>\n",
              "    </tr>\n",
              "  </thead>\n",
              "  <tbody>\n",
              "    <tr>\n",
              "      <th>0</th>\n",
              "      <td>Bavel</td>\n",
              "      <td>3109</td>\n",
              "      <td>1.0</td>\n",
              "      <td>2</td>\n",
              "      <td>5445</td>\n",
              "      <td>0.00</td>\n",
              "      <td>0.141</td>\n",
              "      <td>1.5162</td>\n",
              "      <td>2012</td>\n",
              "      <td>0.28</td>\n",
              "    </tr>\n",
              "    <tr>\n",
              "      <th>1</th>\n",
              "      <td>Bavel</td>\n",
              "      <td>3109</td>\n",
              "      <td>1.0</td>\n",
              "      <td>2</td>\n",
              "      <td>5445</td>\n",
              "      <td>0.00</td>\n",
              "      <td>0.141</td>\n",
              "      <td>0.6065</td>\n",
              "      <td>2012</td>\n",
              "      <td>0.11</td>\n",
              "    </tr>\n",
              "    <tr>\n",
              "      <th>2</th>\n",
              "      <td>Bavel</td>\n",
              "      <td>3109</td>\n",
              "      <td>1.0</td>\n",
              "      <td>2</td>\n",
              "      <td>5445</td>\n",
              "      <td>0.00</td>\n",
              "      <td>0.141</td>\n",
              "      <td>0.6065</td>\n",
              "      <td>2012</td>\n",
              "      <td>0.11</td>\n",
              "    </tr>\n",
              "    <tr>\n",
              "      <th>3</th>\n",
              "      <td>Bavel</td>\n",
              "      <td>3109</td>\n",
              "      <td>1.0</td>\n",
              "      <td>2</td>\n",
              "      <td>5445</td>\n",
              "      <td>0.00</td>\n",
              "      <td>0.141</td>\n",
              "      <td>0.3032</td>\n",
              "      <td>2012</td>\n",
              "      <td>0.06</td>\n",
              "    </tr>\n",
              "    <tr>\n",
              "      <th>4</th>\n",
              "      <td>Bavel</td>\n",
              "      <td>3109</td>\n",
              "      <td>1.0</td>\n",
              "      <td>2</td>\n",
              "      <td>5445</td>\n",
              "      <td>0.00</td>\n",
              "      <td>0.141</td>\n",
              "      <td>1.5162</td>\n",
              "      <td>2012</td>\n",
              "      <td>0.28</td>\n",
              "    </tr>\n",
              "    <tr>\n",
              "      <th>...</th>\n",
              "      <td>...</td>\n",
              "      <td>...</td>\n",
              "      <td>...</td>\n",
              "      <td>...</td>\n",
              "      <td>...</td>\n",
              "      <td>...</td>\n",
              "      <td>...</td>\n",
              "      <td>...</td>\n",
              "      <td>...</td>\n",
              "      <td>...</td>\n",
              "    </tr>\n",
              "    <tr>\n",
              "      <th>7915</th>\n",
              "      <td>Zandberg</td>\n",
              "      <td>6976</td>\n",
              "      <td>3.0</td>\n",
              "      <td>5</td>\n",
              "      <td>5135</td>\n",
              "      <td>0.83</td>\n",
              "      <td>0.151</td>\n",
              "      <td>0.0000</td>\n",
              "      <td>2022</td>\n",
              "      <td>0.00</td>\n",
              "    </tr>\n",
              "    <tr>\n",
              "      <th>7916</th>\n",
              "      <td>Zandberg</td>\n",
              "      <td>6976</td>\n",
              "      <td>2.9</td>\n",
              "      <td>5</td>\n",
              "      <td>5135</td>\n",
              "      <td>0.87</td>\n",
              "      <td>0.151</td>\n",
              "      <td>0.3032</td>\n",
              "      <td>2022</td>\n",
              "      <td>0.06</td>\n",
              "    </tr>\n",
              "    <tr>\n",
              "      <th>7917</th>\n",
              "      <td>Zandberg</td>\n",
              "      <td>6976</td>\n",
              "      <td>2.1</td>\n",
              "      <td>5</td>\n",
              "      <td>5135</td>\n",
              "      <td>0.87</td>\n",
              "      <td>0.151</td>\n",
              "      <td>0.0000</td>\n",
              "      <td>2022</td>\n",
              "      <td>0.00</td>\n",
              "    </tr>\n",
              "    <tr>\n",
              "      <th>7918</th>\n",
              "      <td>Zandberg</td>\n",
              "      <td>6976</td>\n",
              "      <td>3.3</td>\n",
              "      <td>5</td>\n",
              "      <td>5135</td>\n",
              "      <td>0.84</td>\n",
              "      <td>0.151</td>\n",
              "      <td>0.0000</td>\n",
              "      <td>2022</td>\n",
              "      <td>0.00</td>\n",
              "    </tr>\n",
              "    <tr>\n",
              "      <th>7919</th>\n",
              "      <td>Zandberg</td>\n",
              "      <td>6976</td>\n",
              "      <td>3.1</td>\n",
              "      <td>5</td>\n",
              "      <td>5135</td>\n",
              "      <td>0.86</td>\n",
              "      <td>0.151</td>\n",
              "      <td>0.0000</td>\n",
              "      <td>2022</td>\n",
              "      <td>0.00</td>\n",
              "    </tr>\n",
              "  </tbody>\n",
              "</table>\n",
              "<p>7920 rows × 10 columns</p>\n",
              "</div>"
            ],
            "text/plain": [
              "     NeighbourhoodCode  Populationdensitykm2  SlowResponseTimePenalty  \\\n",
              "0                Bavel                  3109                      1.0   \n",
              "1                Bavel                  3109                      1.0   \n",
              "2                Bavel                  3109                      1.0   \n",
              "3                Bavel                  3109                      1.0   \n",
              "4                Bavel                  3109                      1.0   \n",
              "...                ...                   ...                      ...   \n",
              "7915          Zandberg                  6976                      3.0   \n",
              "7916          Zandberg                  6976                      2.9   \n",
              "7917          Zandberg                  6976                      2.1   \n",
              "7918          Zandberg                  6976                      3.3   \n",
              "7919          Zandberg                  6976                      3.1   \n",
              "\n",
              "      Percentuninhabited(%)  Inhabitants  ResponseTimeScore  \\\n",
              "0                         2         5445               0.00   \n",
              "1                         2         5445               0.00   \n",
              "2                         2         5445               0.00   \n",
              "3                         2         5445               0.00   \n",
              "4                         2         5445               0.00   \n",
              "...                     ...          ...                ...   \n",
              "7915                      5         5135               0.83   \n",
              "7916                      5         5135               0.87   \n",
              "7917                      5         5135               0.87   \n",
              "7918                      5         5135               0.84   \n",
              "7919                      5         5135               0.86   \n",
              "\n",
              "      Tradeandcatering%  BurglariesRelPop  Year  Burglaries1k  \n",
              "0                 0.141            1.5162  2012          0.28  \n",
              "1                 0.141            0.6065  2012          0.11  \n",
              "2                 0.141            0.6065  2012          0.11  \n",
              "3                 0.141            0.3032  2012          0.06  \n",
              "4                 0.141            1.5162  2012          0.28  \n",
              "...                 ...               ...   ...           ...  \n",
              "7915              0.151            0.0000  2022          0.00  \n",
              "7916              0.151            0.3032  2022          0.06  \n",
              "7917              0.151            0.0000  2022          0.00  \n",
              "7918              0.151            0.0000  2022          0.00  \n",
              "7919              0.151            0.0000  2022          0.00  \n",
              "\n",
              "[7920 rows x 10 columns]"
            ]
          },
          "execution_count": 23,
          "metadata": {},
          "output_type": "execute_result"
        }
      ],
      "source": [
        "data"
      ]
    },
    {
      "cell_type": "code",
      "execution_count": 10,
      "metadata": {
        "id": "oBnHUzQ8zW5A"
      },
      "outputs": [],
      "source": [
        "data['Burglaries1k']=(data['BurglariesRelPop']/data['Inhabitants'])*1000\n",
        "data['Burglaries1k']=data['Burglaries1k'].round(2)"
      ]
    },
    {
      "cell_type": "code",
      "execution_count": 11,
      "metadata": {
        "id": "WJkMwX2zzXsG"
      },
      "outputs": [],
      "source": [
        "X=data.drop(columns=['NeighbourhoodCode','Year','Inhabitants','BurglariesRelPop','Burglaries1k'], axis=1)\n",
        "y=data['Burglaries1k']"
      ]
    },
    {
      "cell_type": "code",
      "execution_count": 12,
      "metadata": {
        "id": "dMZ1Ro4dzYtk"
      },
      "outputs": [],
      "source": [
        "X_train,X_test,y_train, y_test=train_test_split(X,y,test_size=0.2,random_state=42)\n"
      ]
    },
    {
      "cell_type": "code",
      "execution_count": 13,
      "metadata": {
        "id": "S3G3jWmHzZiw"
      },
      "outputs": [],
      "source": [
        "\n",
        "sc = StandardScaler()\n",
        "X_train_std = sc.fit_transform(X_train)\n",
        "X_test_std = sc.transform(X_test)"
      ]
    },
    {
      "cell_type": "code",
      "execution_count": 14,
      "metadata": {
        "id": "vuwVZKImzcyY"
      },
      "outputs": [
        {
          "data": {
            "text/plain": [
              "\"from sklearn.model_selection import GridSearchCV\\n\\n# Define the parameter grid to search\\nparam_grid = {\\n    'n_estimators': [100, 500,1000],\\n    'learning_rate': [0.001, 0.01, 0.1],\\n    'max_features': [3, 5, 7],\\n    'max_depth': [2, 3, 4]\\n}\\n\\n# Perform grid search to find the best combination of parameters\\ngrid_search = GridSearchCV(estimator=GradientBoostingRegressor(loss='squared_error'), param_grid=param_grid, cv=5)\\ngrid_search.fit(X_train_std, y_train)\\n\\n# Get the best model and its performance\\nbest_gbr = grid_search.best_estimator_\\nbest_accuracy = mean_squared_error(y_test, best_gbr.predict(X_test_std))\""
            ]
          },
          "execution_count": 14,
          "metadata": {},
          "output_type": "execute_result"
        }
      ],
      "source": [
        "#Training the model with different features (checking smth)\n",
        "'''from sklearn.model_selection import GridSearchCV\n",
        "\n",
        "# Define the parameter grid to search\n",
        "param_grid = {\n",
        "    'n_estimators': [100, 500,1000],\n",
        "    'learning_rate': [0.001, 0.01, 0.1],\n",
        "    'max_features': [3, 5, 7],\n",
        "    'max_depth': [2, 3, 4]\n",
        "}\n",
        "\n",
        "# Perform grid search to find the best combination of parameters\n",
        "grid_search = GridSearchCV(estimator=GradientBoostingRegressor(loss='squared_error'), param_grid=param_grid, cv=5)\n",
        "grid_search.fit(X_train_std, y_train)\n",
        "\n",
        "# Get the best model and its performance\n",
        "best_gbr = grid_search.best_estimator_\n",
        "best_accuracy = mean_squared_error(y_test, best_gbr.predict(X_test_std))'''"
      ]
    },
    {
      "cell_type": "code",
      "execution_count": 15,
      "metadata": {
        "id": "V2-pPcT9zd9k"
      },
      "outputs": [],
      "source": [
        "gbr= GradientBoostingRegressor(n_estimators=2000,learning_rate=0.01,max_features=9, max_depth= 4,loss='squared_error')\n"
      ]
    },
    {
      "cell_type": "code",
      "execution_count": 16,
      "metadata": {
        "id": "R3rXIT1Pzet1"
      },
      "outputs": [
        {
          "data": {
            "text/html": [
              "<style>#sk-container-id-1 {color: black;background-color: white;}#sk-container-id-1 pre{padding: 0;}#sk-container-id-1 div.sk-toggleable {background-color: white;}#sk-container-id-1 label.sk-toggleable__label {cursor: pointer;display: block;width: 100%;margin-bottom: 0;padding: 0.3em;box-sizing: border-box;text-align: center;}#sk-container-id-1 label.sk-toggleable__label-arrow:before {content: \"▸\";float: left;margin-right: 0.25em;color: #696969;}#sk-container-id-1 label.sk-toggleable__label-arrow:hover:before {color: black;}#sk-container-id-1 div.sk-estimator:hover label.sk-toggleable__label-arrow:before {color: black;}#sk-container-id-1 div.sk-toggleable__content {max-height: 0;max-width: 0;overflow: hidden;text-align: left;background-color: #f0f8ff;}#sk-container-id-1 div.sk-toggleable__content pre {margin: 0.2em;color: black;border-radius: 0.25em;background-color: #f0f8ff;}#sk-container-id-1 input.sk-toggleable__control:checked~div.sk-toggleable__content {max-height: 200px;max-width: 100%;overflow: auto;}#sk-container-id-1 input.sk-toggleable__control:checked~label.sk-toggleable__label-arrow:before {content: \"▾\";}#sk-container-id-1 div.sk-estimator input.sk-toggleable__control:checked~label.sk-toggleable__label {background-color: #d4ebff;}#sk-container-id-1 div.sk-label input.sk-toggleable__control:checked~label.sk-toggleable__label {background-color: #d4ebff;}#sk-container-id-1 input.sk-hidden--visually {border: 0;clip: rect(1px 1px 1px 1px);clip: rect(1px, 1px, 1px, 1px);height: 1px;margin: -1px;overflow: hidden;padding: 0;position: absolute;width: 1px;}#sk-container-id-1 div.sk-estimator {font-family: monospace;background-color: #f0f8ff;border: 1px dotted black;border-radius: 0.25em;box-sizing: border-box;margin-bottom: 0.5em;}#sk-container-id-1 div.sk-estimator:hover {background-color: #d4ebff;}#sk-container-id-1 div.sk-parallel-item::after {content: \"\";width: 100%;border-bottom: 1px solid gray;flex-grow: 1;}#sk-container-id-1 div.sk-label:hover label.sk-toggleable__label {background-color: #d4ebff;}#sk-container-id-1 div.sk-serial::before {content: \"\";position: absolute;border-left: 1px solid gray;box-sizing: border-box;top: 0;bottom: 0;left: 50%;z-index: 0;}#sk-container-id-1 div.sk-serial {display: flex;flex-direction: column;align-items: center;background-color: white;padding-right: 0.2em;padding-left: 0.2em;position: relative;}#sk-container-id-1 div.sk-item {position: relative;z-index: 1;}#sk-container-id-1 div.sk-parallel {display: flex;align-items: stretch;justify-content: center;background-color: white;position: relative;}#sk-container-id-1 div.sk-item::before, #sk-container-id-1 div.sk-parallel-item::before {content: \"\";position: absolute;border-left: 1px solid gray;box-sizing: border-box;top: 0;bottom: 0;left: 50%;z-index: -1;}#sk-container-id-1 div.sk-parallel-item {display: flex;flex-direction: column;z-index: 1;position: relative;background-color: white;}#sk-container-id-1 div.sk-parallel-item:first-child::after {align-self: flex-end;width: 50%;}#sk-container-id-1 div.sk-parallel-item:last-child::after {align-self: flex-start;width: 50%;}#sk-container-id-1 div.sk-parallel-item:only-child::after {width: 0;}#sk-container-id-1 div.sk-dashed-wrapped {border: 1px dashed gray;margin: 0 0.4em 0.5em 0.4em;box-sizing: border-box;padding-bottom: 0.4em;background-color: white;}#sk-container-id-1 div.sk-label label {font-family: monospace;font-weight: bold;display: inline-block;line-height: 1.2em;}#sk-container-id-1 div.sk-label-container {text-align: center;}#sk-container-id-1 div.sk-container {/* jupyter's `normalize.less` sets `[hidden] { display: none; }` but bootstrap.min.css set `[hidden] { display: none !important; }` so we also need the `!important` here to be able to override the default hidden behavior on the sphinx rendered scikit-learn.org. See: https://github.com/scikit-learn/scikit-learn/issues/21755 */display: inline-block !important;position: relative;}#sk-container-id-1 div.sk-text-repr-fallback {display: none;}</style><div id=\"sk-container-id-1\" class=\"sk-top-container\"><div class=\"sk-text-repr-fallback\"><pre>GradientBoostingRegressor(learning_rate=0.01, max_depth=4, max_features=9,\n",
              "                          n_estimators=2000)</pre><b>In a Jupyter environment, please rerun this cell to show the HTML representation or trust the notebook. <br />On GitHub, the HTML representation is unable to render, please try loading this page with nbviewer.org.</b></div><div class=\"sk-container\" hidden><div class=\"sk-item\"><div class=\"sk-estimator sk-toggleable\"><input class=\"sk-toggleable__control sk-hidden--visually\" id=\"sk-estimator-id-1\" type=\"checkbox\" checked><label for=\"sk-estimator-id-1\" class=\"sk-toggleable__label sk-toggleable__label-arrow\">GradientBoostingRegressor</label><div class=\"sk-toggleable__content\"><pre>GradientBoostingRegressor(learning_rate=0.01, max_depth=4, max_features=9,\n",
              "                          n_estimators=2000)</pre></div></div></div></div></div>"
            ],
            "text/plain": [
              "GradientBoostingRegressor(learning_rate=0.01, max_depth=4, max_features=9,\n",
              "                          n_estimators=2000)"
            ]
          },
          "execution_count": 16,
          "metadata": {},
          "output_type": "execute_result"
        }
      ],
      "source": [
        "gbr.fit(X_train_std,y_train)\n"
      ]
    },
    {
      "cell_type": "code",
      "execution_count": 17,
      "metadata": {
        "id": "KNvy6t5nzftL"
      },
      "outputs": [],
      "source": [
        "y_pred=(gbr.predict(X_test_std)).round(2)\n"
      ]
    },
    {
      "cell_type": "code",
      "execution_count": 18,
      "metadata": {
        "id": "AY7mLy3-zg03"
      },
      "outputs": [
        {
          "data": {
            "text/plain": [
              "4.818494886363636"
            ]
          },
          "execution_count": 18,
          "metadata": {},
          "output_type": "execute_result"
        }
      ],
      "source": [
        "accuracy=mean_squared_error(y_test,y_pred)\n",
        "accuracy"
      ]
    },
    {
      "cell_type": "code",
      "execution_count": 19,
      "metadata": {
        "id": "8yPgogAHzh7T"
      },
      "outputs": [
        {
          "data": {
            "text/html": [
              "<div>\n",
              "<style scoped>\n",
              "    .dataframe tbody tr th:only-of-type {\n",
              "        vertical-align: middle;\n",
              "    }\n",
              "\n",
              "    .dataframe tbody tr th {\n",
              "        vertical-align: top;\n",
              "    }\n",
              "\n",
              "    .dataframe thead th {\n",
              "        text-align: right;\n",
              "    }\n",
              "</style>\n",
              "<table border=\"1\" class=\"dataframe\">\n",
              "  <thead>\n",
              "    <tr style=\"text-align: right;\">\n",
              "      <th></th>\n",
              "      <th>0</th>\n",
              "    </tr>\n",
              "    <tr>\n",
              "      <th>Burglaries1k</th>\n",
              "      <th></th>\n",
              "    </tr>\n",
              "  </thead>\n",
              "  <tbody>\n",
              "    <tr>\n",
              "      <th>0.00</th>\n",
              "      <td>0.06</td>\n",
              "    </tr>\n",
              "    <tr>\n",
              "      <th>0.00</th>\n",
              "      <td>0.06</td>\n",
              "    </tr>\n",
              "    <tr>\n",
              "      <th>0.00</th>\n",
              "      <td>0.11</td>\n",
              "    </tr>\n",
              "    <tr>\n",
              "      <th>4.04</th>\n",
              "      <td>2.97</td>\n",
              "    </tr>\n",
              "    <tr>\n",
              "      <th>0.00</th>\n",
              "      <td>5.47</td>\n",
              "    </tr>\n",
              "    <tr>\n",
              "      <th>...</th>\n",
              "      <td>...</td>\n",
              "    </tr>\n",
              "    <tr>\n",
              "      <th>2.06</th>\n",
              "      <td>0.89</td>\n",
              "    </tr>\n",
              "    <tr>\n",
              "      <th>0.08</th>\n",
              "      <td>0.01</td>\n",
              "    </tr>\n",
              "    <tr>\n",
              "      <th>0.12</th>\n",
              "      <td>0.05</td>\n",
              "    </tr>\n",
              "    <tr>\n",
              "      <th>0.13</th>\n",
              "      <td>0.01</td>\n",
              "    </tr>\n",
              "    <tr>\n",
              "      <th>1.60</th>\n",
              "      <td>1.31</td>\n",
              "    </tr>\n",
              "  </tbody>\n",
              "</table>\n",
              "<p>1584 rows × 1 columns</p>\n",
              "</div>"
            ],
            "text/plain": [
              "                 0\n",
              "Burglaries1k      \n",
              "0.00          0.06\n",
              "0.00          0.06\n",
              "0.00          0.11\n",
              "4.04          2.97\n",
              "0.00          5.47\n",
              "...            ...\n",
              "2.06          0.89\n",
              "0.08          0.01\n",
              "0.12          0.05\n",
              "0.13          0.01\n",
              "1.60          1.31\n",
              "\n",
              "[1584 rows x 1 columns]"
            ]
          },
          "execution_count": 19,
          "metadata": {},
          "output_type": "execute_result"
        }
      ],
      "source": [
        "results= pandas.DataFrame(y_pred,y_test)\n",
        "results"
      ]
    },
    {
      "cell_type": "code",
      "execution_count": 20,
      "metadata": {
        "id": "Ns7nwc-izkWz"
      },
      "outputs": [
        {
          "data": {
            "image/png": "[encoded data removed]",
            "text/plain": [
              "<Figure size 800x800 with 1 Axes>"
            ]
          },
          "metadata": {},
          "output_type": "display_data"
        }
      ],
      "source": [
        "from sklearn.inspection import permutation_importance\n",
        "#\n",
        "# Get Feature importance data using feature_importances_ attribute\n",
        "#\n",
        "feature_importance = gbr.feature_importances_\n",
        "sorted_idx = np.argsort(feature_importance)\n",
        "pos = np.arange(sorted_idx.shape[0]) + .5\n",
        "fig = plt.figure(figsize=(8, 8))\n",
        "plt.barh(pos, feature_importance[sorted_idx], align='center')\n",
        "plt.yticks(pos, np.array(X.columns)[sorted_idx])\n",
        "plt.title('Feature Importance (MDI)')\n",
        "result = permutation_importance(gbr, X_test_std, y_test, n_repeats=10,\n",
        "                                random_state=42, n_jobs=2)\n",
        "sorted_idx = result.importances_mean.argsort()\n",
        "fig.tight_layout()\n",
        "plt.show()"
      ]
    },
    {
      "cell_type": "code",
      "execution_count": 21,
      "metadata": {
        "id": "uyqVTaUZzs7H"
      },
      "outputs": [],
      "source": [
        "filename = 'model_kornelia_dashboard.sav'\n",
        "pkl.dump(gbr, open(filename, 'wb'))"
      ]
    },
    {
      "cell_type": "code",
      "execution_count": 22,
      "metadata": {},
      "outputs": [
        {
          "ename": "AttributeError",
          "evalue": "'GradientBoostingRegressor' object has no attribute 'columns'",
          "output_type": "error",
          "traceback": [
            "\u001b[1;31m---------------------------------------------------------------------------\u001b[0m",
            "\u001b[1;31mAttributeError\u001b[0m                            Traceback (most recent call last)",
            "\u001b[1;32me:\\GitHub\\2022-23d-1fcmgt-reg-ai-01-group-team8\\dashboard\\model_dashboard.ipynb Cell 22\u001b[0m in \u001b[0;36m1\n\u001b[1;32m----> <a href='vscode-notebook-cell:/e%3A/GitHub/2022-23d-1fcmgt-reg-ai-01-group-team8/dashboard/model_dashboard.ipynb#X26sZmlsZQ%3D%3D?line=0'>1</a>\u001b[0m gbr\u001b[39m.\u001b[39;49mcolumns\n",
            "\u001b[1;31mAttributeError\u001b[0m: 'GradientBoostingRegressor' object has no attribute 'columns'"
          ]
        }
      ],
      "source": [
        "gbr.columns"
      ]
    }
  ],
  "metadata": {
    "colab": {
      "provenance": []
    },
    "kernelspec": {
      "display_name": "Python 3",
      "name": "python3"
    },
    "language_info": {
      "codemirror_mode": {
        "name": "ipython",
        "version": 3
      },
      "file_extension": ".py",
      "mimetype": "text/x-python",
      "name": "python",
      "nbconvert_exporter": "python",
      "pygments_lexer": "ipython3",
      "version": "3.9.15"
    }
  },
  "nbformat": 4,
  "nbformat_minor": 0
}
