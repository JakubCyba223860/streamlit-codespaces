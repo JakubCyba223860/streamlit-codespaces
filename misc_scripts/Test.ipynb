{
 "cells": [
  {
   "cell_type": "code",
   "execution_count": 53,
   "metadata": {},
   "outputs": [],
   "source": [
    "# Import necessary modules\n",
    "import geopandas as gpd\n",
    "import pandas as pd\n",
    "import matplotlib.pyplot as plt"
   ]
  },
  {
   "cell_type": "code",
   "execution_count": 54,
   "metadata": {},
   "outputs": [
    {
     "name": "stdout",
     "output_type": "stream",
     "text": [
      "epsg:4326\n",
      "epsg:4326\n"
     ]
    }
   ],
   "source": [
    "# Read file using gpd.read_file()\n",
    "map = gpd.read_file(\"./Datasets/Map/Buurten.shp\")\n",
    "benches = gpd.read_file(\"./Datasets/Zitbanken/Zitbanken.shp\")\n",
    "crime = gpd.read_file(\"./Datasets/crimes_data.csv\")\n",
    "\n",
    "print(gpd.read_file(\"./Datasets/Map/Buurten.shp\").crs)\n",
    "print(gpd.read_file(\"./Datasets/Zitbanken/Zitbanken.shp\").crs)"
   ]
  },
  {
   "cell_type": "code",
   "execution_count": 55,
   "metadata": {},
   "outputs": [],
   "source": [
    "neighborhoods = map['BUURT'].unique()\n",
    "dissect = crime\n",
    "for neighborhood in neighborhoods:\n",
    "    dissect = dissect[dissect['Neighborhood'] != neighborhood]\n",
    "    \n",
    "neighborhoods_to_remove = dissect['Neighborhood'].tolist()\n",
    "neighborhoods_to_remove = list(set(neighborhoods_to_remove))\n",
    "neighborhoods_to_remove.remove('Chasse')\n",
    "\n",
    "# Remove rows with specific neighborhoods\n",
    "crime = crime[~crime['Neighborhood'].isin(neighborhoods_to_remove)]"
   ]
  },
  {
   "cell_type": "code",
   "execution_count": 56,
   "metadata": {},
   "outputs": [],
   "source": [
    "crime = crime.drop('geometry', axis=1)\n",
    "drops = ['BUURTCODE', 'OPPERVLAKT', 'GEMEENTE', 'WOONPLAATS', 'WIJKCODE', 'GEMEENTECO', 'WOONPLAA_1', 'Shape__Len', 'Shape__Are']\n",
    "map = map.drop(drops, axis=1)"
   ]
  },
  {
   "cell_type": "code",
   "execution_count": 57,
   "metadata": {},
   "outputs": [],
   "source": [
    "map = map.rename(columns={'BUURT': 'Neighborhood'})"
   ]
  },
  {
   "cell_type": "code",
   "execution_count": 58,
   "metadata": {},
   "outputs": [],
   "source": [
    "map['Neighborhood'].replace(map['Neighborhood'].unique()[4], 'Chasse', inplace=True)\n",
    "crime['Neighborhood'].replace(crime['Neighborhood'].unique()[1], 'Chasse', inplace=True)"
   ]
  },
  {
   "cell_type": "code",
   "execution_count": 59,
   "metadata": {},
   "outputs": [
    {
     "data": {
      "text/html": [
       "<div>\n",
       "<style scoped>\n",
       "    .dataframe tbody tr th:only-of-type {\n",
       "        vertical-align: middle;\n",
       "    }\n",
       "\n",
       "    .dataframe tbody tr th {\n",
       "        vertical-align: top;\n",
       "    }\n",
       "\n",
       "    .dataframe thead th {\n",
       "        text-align: right;\n",
       "    }\n",
       "</style>\n",
       "<table border=\"1\" class=\"dataframe\">\n",
       "  <thead>\n",
       "    <tr style=\"text-align: right;\">\n",
       "      <th></th>\n",
       "      <th>OBJECTID</th>\n",
       "      <th>Neighborhood</th>\n",
       "      <th>WIJK</th>\n",
       "      <th>geometry</th>\n",
       "      <th>Crime type</th>\n",
       "      <th>Period</th>\n",
       "      <th>Registered Crimes</th>\n",
       "    </tr>\n",
       "  </thead>\n",
       "  <tbody>\n",
       "    <tr>\n",
       "      <th>0</th>\n",
       "      <td>117</td>\n",
       "      <td>Kievitsloop</td>\n",
       "      <td>Breda noord-west</td>\n",
       "      <td>POLYGON ((4.75141 51.61890, 4.75136 51.61882, ...</td>\n",
       "      <td>Total felonies</td>\n",
       "      <td>2012/01</td>\n",
       "      <td>22</td>\n",
       "    </tr>\n",
       "    <tr>\n",
       "      <th>1</th>\n",
       "      <td>117</td>\n",
       "      <td>Kievitsloop</td>\n",
       "      <td>Breda noord-west</td>\n",
       "      <td>POLYGON ((4.75141 51.61890, 4.75136 51.61882, ...</td>\n",
       "      <td>Total felonies</td>\n",
       "      <td>2012/02</td>\n",
       "      <td>14</td>\n",
       "    </tr>\n",
       "    <tr>\n",
       "      <th>2</th>\n",
       "      <td>117</td>\n",
       "      <td>Kievitsloop</td>\n",
       "      <td>Breda noord-west</td>\n",
       "      <td>POLYGON ((4.75141 51.61890, 4.75136 51.61882, ...</td>\n",
       "      <td>Total felonies</td>\n",
       "      <td>2012/03</td>\n",
       "      <td>16</td>\n",
       "    </tr>\n",
       "    <tr>\n",
       "      <th>3</th>\n",
       "      <td>117</td>\n",
       "      <td>Kievitsloop</td>\n",
       "      <td>Breda noord-west</td>\n",
       "      <td>POLYGON ((4.75141 51.61890, 4.75136 51.61882, ...</td>\n",
       "      <td>Total felonies</td>\n",
       "      <td>2012/04</td>\n",
       "      <td>13</td>\n",
       "    </tr>\n",
       "    <tr>\n",
       "      <th>4</th>\n",
       "      <td>117</td>\n",
       "      <td>Kievitsloop</td>\n",
       "      <td>Breda noord-west</td>\n",
       "      <td>POLYGON ((4.75141 51.61890, 4.75136 51.61882, ...</td>\n",
       "      <td>Total felonies</td>\n",
       "      <td>2012/05</td>\n",
       "      <td>15</td>\n",
       "    </tr>\n",
       "  </tbody>\n",
       "</table>\n",
       "</div>"
      ],
      "text/plain": [
       "   OBJECTID Neighborhood              WIJK  \\\n",
       "0       117  Kievitsloop  Breda noord-west   \n",
       "1       117  Kievitsloop  Breda noord-west   \n",
       "2       117  Kievitsloop  Breda noord-west   \n",
       "3       117  Kievitsloop  Breda noord-west   \n",
       "4       117  Kievitsloop  Breda noord-west   \n",
       "\n",
       "                                            geometry        Crime type  \\\n",
       "0  POLYGON ((4.75141 51.61890, 4.75136 51.61882, ...  Total felonies     \n",
       "1  POLYGON ((4.75141 51.61890, 4.75136 51.61882, ...  Total felonies     \n",
       "2  POLYGON ((4.75141 51.61890, 4.75136 51.61882, ...  Total felonies     \n",
       "3  POLYGON ((4.75141 51.61890, 4.75136 51.61882, ...  Total felonies     \n",
       "4  POLYGON ((4.75141 51.61890, 4.75136 51.61882, ...  Total felonies     \n",
       "\n",
       "    Period Registered Crimes  \n",
       "0  2012/01                22  \n",
       "1  2012/02                14  \n",
       "2  2012/03                16  \n",
       "3  2012/04                13  \n",
       "4  2012/05                15  "
      ]
     },
     "execution_count": 59,
     "metadata": {},
     "output_type": "execute_result"
    }
   ],
   "source": [
    "merged_df = map.merge(crime, on='Neighborhood')\n",
    "merged_df.head()"
   ]
  },
  {
   "cell_type": "code",
   "execution_count": 60,
   "metadata": {},
   "outputs": [
    {
     "data": {
      "text/plain": [
       "'Chasse'"
      ]
     },
     "execution_count": 60,
     "metadata": {},
     "output_type": "execute_result"
    }
   ],
   "source": [
    "crime['Neighborhood'].unique()[1]"
   ]
  },
  {
   "cell_type": "code",
   "execution_count": 61,
   "metadata": {},
   "outputs": [
    {
     "data": {
      "text/html": [
       "<div>\n",
       "<style scoped>\n",
       "    .dataframe tbody tr th:only-of-type {\n",
       "        vertical-align: middle;\n",
       "    }\n",
       "\n",
       "    .dataframe tbody tr th {\n",
       "        vertical-align: top;\n",
       "    }\n",
       "\n",
       "    .dataframe thead th {\n",
       "        text-align: right;\n",
       "    }\n",
       "</style>\n",
       "<table border=\"1\" class=\"dataframe\">\n",
       "  <thead>\n",
       "    <tr style=\"text-align: right;\">\n",
       "      <th></th>\n",
       "      <th>Neighborhood</th>\n",
       "      <th>OBJECTID_left</th>\n",
       "    </tr>\n",
       "  </thead>\n",
       "  <tbody>\n",
       "    <tr>\n",
       "      <th>0</th>\n",
       "      <td>Bavel</td>\n",
       "      <td>66</td>\n",
       "    </tr>\n",
       "    <tr>\n",
       "      <th>1</th>\n",
       "      <td>Belcrum</td>\n",
       "      <td>23</td>\n",
       "    </tr>\n",
       "    <tr>\n",
       "      <th>2</th>\n",
       "      <td>Biesdonk</td>\n",
       "      <td>57</td>\n",
       "    </tr>\n",
       "    <tr>\n",
       "      <th>3</th>\n",
       "      <td>Blauwe Kei</td>\n",
       "      <td>52</td>\n",
       "    </tr>\n",
       "    <tr>\n",
       "      <th>4</th>\n",
       "      <td>Boeimeer</td>\n",
       "      <td>126</td>\n",
       "    </tr>\n",
       "  </tbody>\n",
       "</table>\n",
       "</div>"
      ],
      "text/plain": [
       "  Neighborhood  OBJECTID_left\n",
       "0        Bavel             66\n",
       "1      Belcrum             23\n",
       "2     Biesdonk             57\n",
       "3   Blauwe Kei             52\n",
       "4     Boeimeer            126"
      ]
     },
     "execution_count": 61,
     "metadata": {},
     "output_type": "execute_result"
    }
   ],
   "source": [
    "benches_area = gpd.sjoin(benches, map, how='left', predicate='within')\n",
    "neighborhood_bench_count = benches_area.groupby('Neighborhood')['OBJECTID_left'].count().reset_index()\n",
    "neighborhood_bench_count.head()"
   ]
  },
  {
   "cell_type": "code",
   "execution_count": 62,
   "metadata": {},
   "outputs": [
    {
     "data": {
      "text/plain": [
       "0                  Kievitsloop\n",
       "1                  Princenhage\n",
       "2                  Heusdenhout\n",
       "3           Buitengebied Bavel\n",
       "4                       Chasse\n",
       "5                      Mastbos\n",
       "6                    Overakker\n",
       "7                   Valkenberg\n",
       "8                    Sportpark\n",
       "9                  Schorsmolen\n",
       "10                     Station\n",
       "11                 Vuchtpolder\n",
       "12                  Effen-Rith\n",
       "13                   Hazeldonk\n",
       "14                   Hagebeemd\n",
       "15                     Heilaar\n",
       "16                   Haagpoort\n",
       "17             Nieuw Wolfslaar\n",
       "18                    Hoogeind\n",
       "19                    Tuinzigt\n",
       "20                  Blauwe Kei\n",
       "21                     Krogten\n",
       "22                    Ginneken\n",
       "23                     Liesbos\n",
       "24                      Heuvel\n",
       "25                 Prinsenbeek\n",
       "26                    Zandberg\n",
       "27                     Ypelaar\n",
       "28                        Emer\n",
       "29                  Steenakker\n",
       "30                 Waterdonken\n",
       "31                    Kesteren\n",
       "32                   Wisselaar\n",
       "33                       Bavel\n",
       "34                Geeren-noord\n",
       "35                 Overkroeten\n",
       "36                  Muizenberg\n",
       "37                  Ruitersbos\n",
       "38                   Ulvenhout\n",
       "39                  Westerpark\n",
       "40                 Brabantpark\n",
       "41              Moleneind-oost\n",
       "42                     Kroeten\n",
       "43      Buitengebied Ulvenhout\n",
       "44                        City\n",
       "45                  Heksenwiel\n",
       "46              Doornbos-Linie\n",
       "47                  Fellenoord\n",
       "48    Buitengebied Prinsenbeek\n",
       "49                  Teteringen\n",
       "50                    Biesdonk\n",
       "51                     Belcrum\n",
       "52     Buitengebied Teteringen\n",
       "53                    Boeimeer\n",
       "54                 Geeren-zuid\n",
       "55                   Gageldonk\n",
       "Name: Neighborhood, dtype: object"
      ]
     },
     "execution_count": 62,
     "metadata": {},
     "output_type": "execute_result"
    }
   ],
   "source": [
    "map['Neighborhood']"
   ]
  },
  {
   "cell_type": "code",
   "execution_count": 63,
   "metadata": {},
   "outputs": [
    {
     "data": {
      "text/plain": [
       "array(['Valkenberg', 'Chasse', 'Fellenoord', 'Schorsmolen', 'Station',\n",
       "       'City', 'Belcrum', 'Doornbos-Linie', 'Biesdonk', 'Geeren-zuid',\n",
       "       'Wisselaar', 'Krogten', 'Geeren-noord', 'Waterdonken',\n",
       "       'Brabantpark', 'Sportpark', 'Zandberg', 'Heusdenhout',\n",
       "       'Moleneind-oost', 'Hoogeind', 'Blauwe Kei', 'Ypelaar', 'Overakker',\n",
       "       'Ginneken', 'Mastbos', 'Boeimeer', 'Ruitersbos', 'Haagpoort',\n",
       "       'Heuvel', 'Tuinzigt', 'Princenhage', 'Westerpark', 'Heilaar',\n",
       "       'Hazeldonk', 'Steenakker', 'Effen-Rith', 'Liesbos', 'Gageldonk',\n",
       "       'Kievitsloop', 'Kesteren', 'Muizenberg', 'Heksenwiel',\n",
       "       'Overkroeten', 'Kroeten', 'Emer', 'Hagebeemd', 'Bavel',\n",
       "       'Nieuw Wolfslaar', 'Buitengebied Bavel', 'Ulvenhout',\n",
       "       'Buitengebied Ulvenhout', 'Prinsenbeek',\n",
       "       'Buitengebied Prinsenbeek', 'Teteringen', 'Vuchtpolder',\n",
       "       'Buitengebied Teteringen'], dtype=object)"
      ]
     },
     "execution_count": 63,
     "metadata": {},
     "output_type": "execute_result"
    }
   ],
   "source": [
    "crime['Neighborhood'].unique()"
   ]
  },
  {
   "cell_type": "code",
   "execution_count": 64,
   "metadata": {},
   "outputs": [
    {
     "data": {
      "text/plain": [
       "array(['Kievitsloop', 'Princenhage', 'Heusdenhout', 'Buitengebied Bavel',\n",
       "       'Chasse', 'Mastbos', 'Overakker', 'Valkenberg', 'Sportpark',\n",
       "       'Schorsmolen', 'Station', 'Vuchtpolder', 'Effen-Rith', 'Hazeldonk',\n",
       "       'Hagebeemd', 'Heilaar', 'Haagpoort', 'Nieuw Wolfslaar', 'Hoogeind',\n",
       "       'Tuinzigt', 'Blauwe Kei', 'Krogten', 'Ginneken', 'Liesbos',\n",
       "       'Heuvel', 'Prinsenbeek', 'Zandberg', 'Ypelaar', 'Emer',\n",
       "       'Steenakker', 'Waterdonken', 'Kesteren', 'Wisselaar', 'Bavel',\n",
       "       'Geeren-noord', 'Overkroeten', 'Muizenberg', 'Ruitersbos',\n",
       "       'Ulvenhout', 'Westerpark', 'Brabantpark', 'Moleneind-oost',\n",
       "       'Kroeten', 'Buitengebied Ulvenhout', 'City', 'Heksenwiel',\n",
       "       'Doornbos-Linie', 'Fellenoord', 'Buitengebied Prinsenbeek',\n",
       "       'Teteringen', 'Biesdonk', 'Belcrum', 'Buitengebied Teteringen',\n",
       "       'Boeimeer', 'Geeren-zuid', 'Gageldonk'], dtype=object)"
      ]
     },
     "execution_count": 64,
     "metadata": {},
     "output_type": "execute_result"
    }
   ],
   "source": [
    "merged_df['Neighborhood'].unique()"
   ]
  },
  {
   "cell_type": "code",
   "execution_count": 71,
   "metadata": {},
   "outputs": [
    {
     "name": "stdout",
     "output_type": "stream",
     "text": [
      "1215     NaN\n",
      "1216     NaN\n",
      "1217     NaN\n",
      "1218     NaN\n",
      "1219     NaN\n",
      "          ..\n",
      "445495   NaN\n",
      "445496   NaN\n",
      "445497   NaN\n",
      "445498   NaN\n",
      "445499   NaN\n",
      "Name: Registered Crimes, Length: 30240, dtype: float64\n"
     ]
    }
   ],
   "source": [
    "non_numeric_rows = merged_df[merged_df['Registered Crimes'].isna()]\n",
    "print(non_numeric_rows['Registered Crimes'])"
   ]
  },
  {
   "cell_type": "code",
   "execution_count": 67,
   "metadata": {},
   "outputs": [
    {
     "data": {
      "image/png": "[encoded data removed]",
      "text/plain": [
       "<Figure size 640x480 with 1 Axes>"
      ]
     },
     "metadata": {},
     "output_type": "display_data"
    }
   ],
   "source": [
    "ax = merged_df.plot(column = \"Registered Crimes\")\n",
    "ax.set_axis_off()"
   ]
  },
  {
   "cell_type": "code",
   "execution_count": null,
   "metadata": {},
   "outputs": [],
   "source": [
    "ax = map.plot(column = \"Shape__Are\", legend=True, legend_kwds={\"label\": \"Crimes\", \"orientation\": \"horizontal\"})\n",
    "ax.set_axis_off()"
   ]
  },
  {
   "cell_type": "code",
   "execution_count": null,
   "metadata": {},
   "outputs": [],
   "source": [
    "ax = map.plot()\n",
    "benches.plot(ax=ax, marker='^', color='red', markersize=1)\n",
    "ax.set_axis_off()"
   ]
  },
  {
   "cell_type": "code",
   "execution_count": null,
   "metadata": {},
   "outputs": [],
   "source": [
    "base = map.plot(color='white', edgecolor='black')"
   ]
  }
 ],
 "metadata": {
  "kernelspec": {
   "display_name": "base",
   "language": "python",
   "name": "python3"
  },
  "language_info": {
   "codemirror_mode": {
    "name": "ipython",
    "version": 3
   },
   "file_extension": ".py",
   "mimetype": "text/x-python",
   "name": "python",
   "nbconvert_exporter": "python",
   "pygments_lexer": "ipython3",
   "version": "3.10.9"
  },
  "orig_nbformat": 4
 },
 "nbformat": 4,
 "nbformat_minor": 2
}
